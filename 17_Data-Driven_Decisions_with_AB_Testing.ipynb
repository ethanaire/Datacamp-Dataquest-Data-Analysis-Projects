{
 "cells": [
  {
   "cell_type": "markdown",
   "id": "18d9458a-8243-4d6e-ba20-6fe91ef5f395",
   "metadata": {},
   "source": [
    "As a Data Scientist at a leading online travel agency, you’ve been tasked with evaluating the impact of a new search ranking algorithm designed to improve conversion rates. The Product team is considering a full rollout, but only if the experiment shows a clear positive effect on the conversion rate and does not lead to a longer time to book.\n",
    "\n",
    "They have shared A/B test datasets with session-level booking data (`\"sessions_data.csv\"`) and user-level control/variant split (`\"users_data.csv\"`). Your job is to analyze and interpret the results to determine whether the new ranking system delivers a statistically significant improvement and provide a clear, data-driven recommendation."
   ]
  },
  {
   "cell_type": "markdown",
   "id": "2f65412a-89d7-4e97-887b-e9a053c77fb3",
   "metadata": {},
   "source": [
    "## `sessions_data.csv`\n",
    "\n",
    "| column | data type | description | \n",
    "|--------|-----------|-------------|\n",
    "| `session_id` | `string` | Unique session identifier (unique for each row) |\n",
    "| `user_id` | `string` | Unique user identifier (non logged-in users have missing user_id values; each user can have multiple sessions) |\n",
    "| `session_start_timestamp` | `string` | When a session started |\n",
    "| `booking_timestamp` | `string` | When a booking was made (missing if no booking was made during a session) |\n",
    "| `time_to_booking` | `float` | time from start of the session to booking, in minutes (missing if no booking was made during a session) |\n",
    "| `conversion` | `integer` | _New column to create:_ did session end up with a booking (0 if booking_timestamp or time_to_booking is Null, otherwise 1) |\n",
    "\n",
    "<br>\n",
    "\n",
    "## `users_data.csv`\n",
    "\n",
    "| column | data type | description | \n",
    "|--------|-----------|-------------|\n",
    "| `user_id` | `string` | Unique user identifier (only logged-in users in this table) |\n",
    "| `experiment_group` | `string` | control / variant split for the experiment (expected to be equal 50/50) |\n",
    "\n",
    "<br>"
   ]
  },
  {
   "cell_type": "markdown",
   "id": "025aae0a-098c-4c57-aa20-f4a1ab0d170c",
   "metadata": {},
   "source": [
    "The full on criteria are the following:\n",
    "- Primary metric (conversion) effect must be statistically significant and show positive effect (increase).\n",
    "- Guardrail (time_to_booking) effect must either be statistically insignificant or show positive effect (decrease)"
   ]
  },
  {
   "cell_type": "code",
   "execution_count": 2,
   "id": "45255f2c-da76-489d-9c20-41a721b1a5c9",
   "metadata": {
    "executionCancelledAt": null,
    "executionTime": 11,
    "lastExecutedAt": 1746899563547,
    "lastExecutedByKernel": "c35ab1d3-7431-47c2-84d4-cf2f0edc3d27",
    "lastScheduledRunId": null,
    "lastSuccessfullyExecutedCode": "import pandas as pd\nfrom scipy.stats import chisquare\nfrom pingouin import ttest\nfrom statsmodels.stats.proportion import proportions_ztest"
   },
   "outputs": [],
   "source": [
    "import pandas as pd\n",
    "from scipy.stats import chisquare\n",
    "from pingouin import ttest\n",
    "from statsmodels.stats.proportion import proportions_ztest"
   ]
  },
  {
   "cell_type": "markdown",
   "id": "82098178-dd7b-4141-be2f-3b2eb9e1f857",
   "metadata": {},
   "source": [
    "## 1. Loading and merging the data"
   ]
  },
  {
   "cell_type": "markdown",
   "id": "b5262c3c-8537-4f47-9752-0534fc91a923",
   "metadata": {},
   "source": [
    "- Join `\"sessions_data.csv\"` and `\"users_data.csv\"` into a new dataframe `sessions_x_users`."
   ]
  },
  {
   "cell_type": "code",
   "execution_count": 3,
   "id": "db2d22b2-f761-4276-96c2-0a901b2aa25c",
   "metadata": {
    "executionCancelledAt": null,
    "executionTime": 49,
    "lastExecutedAt": 1746899563596,
    "lastExecutedByKernel": "c35ab1d3-7431-47c2-84d4-cf2f0edc3d27",
    "lastScheduledRunId": null,
    "lastSuccessfullyExecutedCode": "# LOAD DATA\nusers = pd.read_csv('users_data.csv') # Load user and experiment group data\nsessions = pd.read_csv('sessions_data.csv') # Load session/booking data"
   },
   "outputs": [],
   "source": [
    "# LOAD DATA\n",
    "users = pd.read_csv('users_data.csv') # Load user and experiment group data\n",
    "sessions = pd.read_csv('sessions_data.csv') # Load session/booking data"
   ]
  },
  {
   "cell_type": "code",
   "execution_count": 4,
   "id": "eb1ae766-9b2c-4e6b-9abb-a508efa23a5a",
   "metadata": {
    "executionCancelledAt": null,
    "executionTime": null,
    "lastExecutedAt": null,
    "lastExecutedByKernel": null,
    "lastScheduledRunId": null,
    "lastSuccessfullyExecutedCode": null,
    "outputsMetadata": {
     "0": {
      "height": 266,
      "tableState": {
       "customFilter": {
        "const": {
         "type": "boolean",
         "valid": true,
         "value": true
        },
        "id": "c20fd3c4-c36d-4a7d-86d1-c86e66e607cc",
        "nodeType": "const"
       }
      },
      "type": "dataFrame"
     }
    }
   },
   "outputs": [
    {
     "data": {
      "text/html": [
       "<div>\n",
       "<style scoped>\n",
       "    .dataframe tbody tr th:only-of-type {\n",
       "        vertical-align: middle;\n",
       "    }\n",
       "\n",
       "    .dataframe tbody tr th {\n",
       "        vertical-align: top;\n",
       "    }\n",
       "\n",
       "    .dataframe thead th {\n",
       "        text-align: right;\n",
       "    }\n",
       "</style>\n",
       "<table border=\"1\" class=\"dataframe\">\n",
       "  <thead>\n",
       "    <tr style=\"text-align: right;\">\n",
       "      <th></th>\n",
       "      <th>session_id</th>\n",
       "      <th>user_id</th>\n",
       "      <th>session_start_timestamp</th>\n",
       "      <th>booking_timestamp</th>\n",
       "      <th>time_to_booking</th>\n",
       "      <th>experiment_group</th>\n",
       "    </tr>\n",
       "  </thead>\n",
       "  <tbody>\n",
       "    <tr>\n",
       "      <th>0</th>\n",
       "      <td>CP0lbAGnb5UNi3Ut</td>\n",
       "      <td>TcCIMrtQ75wHGXVj</td>\n",
       "      <td>2025-01-26 20:02:39.177358627</td>\n",
       "      <td>NaN</td>\n",
       "      <td>NaN</td>\n",
       "      <td>variant</td>\n",
       "    </tr>\n",
       "    <tr>\n",
       "      <th>1</th>\n",
       "      <td>UQAjrPYair63L1p8</td>\n",
       "      <td>TcCIMrtQ75wHGXVj</td>\n",
       "      <td>2025-01-20 16:12:51.536912203</td>\n",
       "      <td>NaN</td>\n",
       "      <td>NaN</td>\n",
       "      <td>variant</td>\n",
       "    </tr>\n",
       "    <tr>\n",
       "      <th>2</th>\n",
       "      <td>9zQrAPxV5oi2SzSa</td>\n",
       "      <td>TcCIMrtQ75wHGXVj</td>\n",
       "      <td>2025-01-28 03:46:40.839362144</td>\n",
       "      <td>NaN</td>\n",
       "      <td>NaN</td>\n",
       "      <td>variant</td>\n",
       "    </tr>\n",
       "    <tr>\n",
       "      <th>3</th>\n",
       "      <td>kkrz1M5vxrQ8wXRZ</td>\n",
       "      <td>GUGVzto9KGqeX3dc</td>\n",
       "      <td>2025-01-25 02:48:50.953303099</td>\n",
       "      <td>NaN</td>\n",
       "      <td>NaN</td>\n",
       "      <td>variant</td>\n",
       "    </tr>\n",
       "    <tr>\n",
       "      <th>4</th>\n",
       "      <td>ABZZFrwItZAPdYGP</td>\n",
       "      <td>v2EBIHmOdQfalI6k</td>\n",
       "      <td>2025-01-11 11:41:36.912253618</td>\n",
       "      <td>NaN</td>\n",
       "      <td>NaN</td>\n",
       "      <td>variant</td>\n",
       "    </tr>\n",
       "  </tbody>\n",
       "</table>\n",
       "</div>"
      ],
      "text/plain": [
       "         session_id           user_id        session_start_timestamp  \\\n",
       "0  CP0lbAGnb5UNi3Ut  TcCIMrtQ75wHGXVj  2025-01-26 20:02:39.177358627   \n",
       "1  UQAjrPYair63L1p8  TcCIMrtQ75wHGXVj  2025-01-20 16:12:51.536912203   \n",
       "2  9zQrAPxV5oi2SzSa  TcCIMrtQ75wHGXVj  2025-01-28 03:46:40.839362144   \n",
       "3  kkrz1M5vxrQ8wXRZ  GUGVzto9KGqeX3dc  2025-01-25 02:48:50.953303099   \n",
       "4  ABZZFrwItZAPdYGP  v2EBIHmOdQfalI6k  2025-01-11 11:41:36.912253618   \n",
       "\n",
       "  booking_timestamp  time_to_booking experiment_group  \n",
       "0               NaN              NaN          variant  \n",
       "1               NaN              NaN          variant  \n",
       "2               NaN              NaN          variant  \n",
       "3               NaN              NaN          variant  \n",
       "4               NaN              NaN          variant  "
      ]
     },
     "execution_count": 4,
     "metadata": {},
     "output_type": "execute_result"
    }
   ],
   "source": [
    "# JOIN DATA\n",
    "# Merge on user ID to enrich sessions with user experiment group\n",
    "sessions_x_users = sessions.merge(users, on = 'user_id', how = 'inner')\n",
    "sessions_x_users.head()"
   ]
  },
  {
   "cell_type": "markdown",
   "id": "9f79d458-93cc-41a0-a0a8-5af8600fb29e",
   "metadata": {},
   "source": [
    "## 2. Creating primary metric"
   ]
  },
  {
   "cell_type": "markdown",
   "id": "a05b082f-1e75-48e4-b07c-6552d25ec7c6",
   "metadata": {},
   "source": [
    "- Create a new column conversion as per the requirements specified in the workbook.\n",
    "- 1 if `booking_timestamp` is not missing, 0 otherwise"
   ]
  },
  {
   "cell_type": "code",
   "execution_count": 5,
   "id": "7e3d5391-c7b7-4407-ac15-671c8b24b93c",
   "metadata": {
    "executionCancelledAt": null,
    "executionTime": 50,
    "lastExecutedAt": 1746899563705,
    "lastExecutedByKernel": "c35ab1d3-7431-47c2-84d4-cf2f0edc3d27",
    "lastScheduledRunId": null,
    "lastSuccessfullyExecutedCode": "# COMPUTE PRIMARY METRIC\n# Binary conversion flag: 1 if booking occurred, 0 otherwise\nsessions_x_users['conversion'] = sessions_x_users['booking_timestamp'].notnull().astype(int)"
   },
   "outputs": [],
   "source": [
    "# COMPUTE PRIMARY METRIC\n",
    "# Binary conversion flag: 1 if booking occurred, 0 otherwise\n",
    "sessions_x_users['conversion'] = sessions_x_users['booking_timestamp'].notnull().astype(int)"
   ]
  },
  {
   "cell_type": "markdown",
   "id": "983f6026-8398-4d84-90eb-17626faf62ca",
   "metadata": {},
   "source": [
    "## 3. Sample Ratio Mismatch (SRM) test "
   ]
  },
  {
   "cell_type": "markdown",
   "id": "903290ae-f8c5-4a81-ac52-58beafaeb4bf",
   "metadata": {},
   "source": [
    "- Perform a Chi-squared test to check for SRM in control and variant groups (the split is expected to be equal 50/50)."
   ]
  },
  {
   "cell_type": "code",
   "execution_count": 6,
   "id": "19ce0172-f9c0-4ae4-8565-68defda15ef2",
   "metadata": {
    "executionCancelledAt": null,
    "executionTime": 52,
    "lastExecutedAt": 1746899563759,
    "lastExecutedByKernel": "c35ab1d3-7431-47c2-84d4-cf2f0edc3d27",
    "lastScheduledRunId": null,
    "lastSuccessfullyExecutedCode": "# SAMPLE RATIO MISMATCH TEST\n# Check if the number of users in each experiment group is balanced (a basic A/A sanity check)\ngroups_count = sessions_x_users['experiment_group'].value_counts()\nprint(groups_count)",
    "outputsMetadata": {
     "0": {
      "height": 80,
      "type": "stream"
     }
    }
   },
   "outputs": [
    {
     "name": "stdout",
     "output_type": "stream",
     "text": [
      "experiment_group\n",
      "variant    7653\n",
      "control    7630\n",
      "Name: count, dtype: int64\n"
     ]
    }
   ],
   "source": [
    "# SAMPLE RATIO MISMATCH TEST\n",
    "# Check if the number of users in each experiment group is balanced (a basic A/A sanity check)\n",
    "groups_count = sessions_x_users['experiment_group'].value_counts()\n",
    "print(groups_count)"
   ]
  },
  {
   "cell_type": "code",
   "execution_count": 7,
   "id": "7304dfea-9cbd-4374-b483-d0cc3325e3bb",
   "metadata": {
    "executionCancelledAt": null,
    "executionTime": 55,
    "lastExecutedAt": 1746899563814,
    "lastExecutedByKernel": "c35ab1d3-7431-47c2-84d4-cf2f0edc3d27",
    "lastScheduledRunId": null,
    "lastSuccessfullyExecutedCode": "n = sessions_x_users.shape[0] # Total sample size\nsrm_chi2_stat, srm_chi2_pval = chisquare(f_obs = groups_count, f_exp = (n/2, n/2))\nsrm_chi2_pval = round(srm_chi2_pval, 4)\nprint(f'\\nSRM\\np-value: {srm_chi2_pval}') # If p < alpha, there's likely a sampling issue issue",
    "outputsMetadata": {
     "0": {
      "height": 80,
      "type": "stream"
     }
    }
   },
   "outputs": [
    {
     "name": "stdout",
     "output_type": "stream",
     "text": [
      "\n",
      "SRM\n",
      "p-value: 0.8524\n"
     ]
    }
   ],
   "source": [
    "n = sessions_x_users.shape[0] # Total sample size\n",
    "srm_chi2_stat, srm_chi2_pval = chisquare(f_obs = groups_count, f_exp = (n/2, n/2))\n",
    "srm_chi2_pval = round(srm_chi2_pval, 4)\n",
    "print(f'\\nSRM\\np-value: {srm_chi2_pval}') # If p < alpha, there's likely a sampling issue issue"
   ]
  },
  {
   "cell_type": "markdown",
   "id": "0d6cb1f5-5dcd-4f15-af49-52b4f18598a7",
   "metadata": {},
   "source": [
    "## 4. Effect analysis on primary metric - `conversion`"
   ]
  },
  {
   "cell_type": "markdown",
   "id": "415ef0f5-6db9-463e-a562-e49824ac8f75",
   "metadata": {},
   "source": [
    "- Run the appropriate test (Z-test or T-test) considering the type of the `conversion` metric to assess the significance of the effect -> `conversion` is a binary metric so a Z-test should be used in this case."
   ]
  },
  {
   "cell_type": "code",
   "execution_count": 8,
   "id": "75bf2174-993e-4900-8f02-b40678552821",
   "metadata": {
    "executionCancelledAt": null,
    "executionTime": 55,
    "lastExecutedAt": 1746899563869,
    "lastExecutedByKernel": "c35ab1d3-7431-47c2-84d4-cf2f0edc3d27",
    "lastScheduledRunId": null,
    "lastSuccessfullyExecutedCode": "# EFFECT ANALYSIS - PRIMARY METRIC\n# Compute success counts and sample sizes for each group\nsuccess_counts = sessions_x_users.groupby('experiment_group')['conversion'].sum().loc[['control', 'variant']]\n\nsample_sizes = sessions_x_users['experiment_group'].value_counts().loc[['control', 'variant']]"
   },
   "outputs": [],
   "source": [
    "# EFFECT ANALYSIS - PRIMARY METRIC\n",
    "# Compute success counts and sample sizes for each group\n",
    "success_counts = sessions_x_users.groupby('experiment_group')['conversion'].sum().loc[['control', 'variant']]\n",
    "\n",
    "sample_sizes = sessions_x_users['experiment_group'].value_counts().loc[['control', 'variant']]"
   ]
  },
  {
   "cell_type": "code",
   "execution_count": 9,
   "id": "e8b7c09b-0c9f-49f4-988b-9a2ee320c429",
   "metadata": {
    "executionCancelledAt": null,
    "executionTime": 47,
    "lastExecutedAt": 1746899563917,
    "lastExecutedByKernel": "c35ab1d3-7431-47c2-84d4-cf2f0edc3d27",
    "lastScheduledRunId": null,
    "lastSuccessfullyExecutedCode": "# Run Z-test for proportions (binary conversion metric)\nzstat_primary, pval_primary = proportions_ztest(\n    success_counts,\n    sample_sizes,\n    alternative = 'two-sided',\n)\n\npval_primary = round(pval_primary, 4)"
   },
   "outputs": [],
   "source": [
    "# Run Z-test for proportions (binary conversion metric)\n",
    "zstat_primary, pval_primary = proportions_ztest(\n",
    "    success_counts,\n",
    "    sample_sizes,\n",
    "    alternative = 'two-sided',\n",
    ")\n",
    "\n",
    "pval_primary = round(pval_primary, 4)"
   ]
  },
  {
   "cell_type": "markdown",
   "id": "af711bb1-031f-42eb-a695-7b09132229e2",
   "metadata": {},
   "source": [
    "## 5. Effect analysis on the guardrail metric - `time_to_booking`"
   ]
  },
  {
   "cell_type": "markdown",
   "id": "78432ad5-c183-408c-b2f0-07291c157973",
   "metadata": {},
   "source": [
    "- Run the appropriate test considering the type of the `time_to_booking` metric to assess the significance of the effect -> `time_to_booking` is a continuous metric so a T-test should be used in this case."
   ]
  },
  {
   "cell_type": "code",
   "execution_count": 10,
   "id": "93974c44-3121-4ce3-af54-114c8fedb0a5",
   "metadata": {
    "executionCancelledAt": null,
    "executionTime": 53,
    "lastExecutedAt": 1746899563971,
    "lastExecutedByKernel": "c35ab1d3-7431-47c2-84d4-cf2f0edc3d27",
    "lastScheduledRunId": null,
    "lastSuccessfullyExecutedCode": "# EFFECT ANALYSIS - GUARDRAIL METRIC\n# T-test on time to booking for control vs variant\nstats_guardrail = ttest(\n    sessions_x_users.loc[(sessions_x_users['experiment_group'] == 'control'), 'time_to_booking'],\n    sessions_x_users.loc[(sessions_x_users['experiment_group'] == 'variant'), 'time_to_booking'],\n    alternative='two-sided',\n)\n\npval_guardrail, tstat_guardrail = stats_guardrail['p-val'].values[0], stats_guardrail['T'].values[0]\npval_guardrail = round(pval_guardrail, 4)"
   },
   "outputs": [],
   "source": [
    "# EFFECT ANALYSIS - GUARDRAIL METRIC\n",
    "# T-test on time to booking for control vs variant\n",
    "stats_guardrail = ttest(\n",
    "    sessions_x_users.loc[(sessions_x_users['experiment_group'] == 'control'), 'time_to_booking'],\n",
    "    sessions_x_users.loc[(sessions_x_users['experiment_group'] == 'variant'), 'time_to_booking'],\n",
    "    alternative='two-sided',\n",
    ")\n",
    "\n",
    "pval_guardrail, tstat_guardrail = stats_guardrail['p-val'].values[0], stats_guardrail['T'].values[0]\n",
    "pval_guardrail = round(pval_guardrail, 4)"
   ]
  },
  {
   "cell_type": "markdown",
   "id": "c530ca82-8a79-44ac-9ce3-5c4242acd096",
   "metadata": {},
   "source": [
    "## 6. Estimate the effect sizes on primary and guardrail metrics "
   ]
  },
  {
   "cell_type": "markdown",
   "id": "f58a79f2-f015-49e4-a02e-d3456a2db2d6",
   "metadata": {},
   "source": [
    "Calculate the ATE (Average Treatment Effect), i.e. average relative effect size on `conversion` and `time_to_booking`.\n",
    "\n",
    "The formula is: \n",
    "`effect_size = avg(variant) / av(control) - 1`"
   ]
  },
  {
   "cell_type": "code",
   "execution_count": 11,
   "id": "250ac422-40fb-4cb1-98a5-8a160ca7aea5",
   "metadata": {
    "executionCancelledAt": null,
    "executionTime": 50,
    "lastExecutedAt": 1746899564021,
    "lastExecutedByKernel": "c35ab1d3-7431-47c2-84d4-cf2f0edc3d27",
    "lastScheduledRunId": null,
    "lastSuccessfullyExecutedCode": "# DEFINE FUNCTIONS\ndef estimate_effect_size(df: pd.DataFrame, metric: str) -> float:\n    \"\"\"\n    Calculate relative effect size\n\n    Parameters:\n    - df (pd.DataFrame): data with experiment_group ('control', 'variant') and metric columns.\n    - metric (str): name of the metric column\n\n    Returns:\n    - effect_size (float): average treatment effect (effect size)\n    \"\"\"\n    avg_metric_per_group = df.groupby('experiment_group')[metric].mean()\n    effect_size = avg_metric_per_group['variant'] / avg_metric_per_group['control'] - 1\n    return effect_size"
   },
   "outputs": [],
   "source": [
    "# DEFINE FUNCTIONS\n",
    "def estimate_effect_size(df: pd.DataFrame, metric: str) -> float:\n",
    "    \"\"\"\n",
    "    Calculate relative effect size\n",
    "\n",
    "    Parameters:\n",
    "    - df (pd.DataFrame): data with experiment_group ('control', 'variant') and metric columns.\n",
    "    - metric (str): name of the metric column\n",
    "\n",
    "    Returns:\n",
    "    - effect_size (float): average treatment effect (effect size)\n",
    "    \"\"\"\n",
    "    avg_metric_per_group = df.groupby('experiment_group')[metric].mean()\n",
    "    effect_size = avg_metric_per_group['variant'] / avg_metric_per_group['control'] - 1\n",
    "    return effect_size"
   ]
  },
  {
   "cell_type": "code",
   "execution_count": 12,
   "id": "2510f14b-6601-4f0f-af28-19360a878184",
   "metadata": {
    "executionCancelledAt": null,
    "executionTime": 57,
    "lastExecutedAt": 1746899564079,
    "lastExecutedByKernel": "c35ab1d3-7431-47c2-84d4-cf2f0edc3d27",
    "lastScheduledRunId": null,
    "lastSuccessfullyExecutedCode": "# Estimate effect size for the conversion metric\neffect_size_primary = estimate_effect_size(sessions_x_users, 'conversion')\neffect_size_primary = round(effect_size_primary, 4)\nprint(f'\\nPrimary metric\\np-value: {pval_primary: .4f} | effect size: {effect_size_primary: .4f}')",
    "outputsMetadata": {
     "0": {
      "height": 80,
      "type": "stream"
     }
    }
   },
   "outputs": [
    {
     "name": "stdout",
     "output_type": "stream",
     "text": [
      "\n",
      "Primary metric\n",
      "p-value:  0.0002 | effect size:  0.1422\n"
     ]
    }
   ],
   "source": [
    "# Estimate effect size for the conversion metric\n",
    "effect_size_primary = estimate_effect_size(sessions_x_users, 'conversion')\n",
    "effect_size_primary = round(effect_size_primary, 4)\n",
    "print(f'\\nPrimary metric\\np-value: {pval_primary: .4f} | effect size: {effect_size_primary: .4f}')"
   ]
  },
  {
   "cell_type": "code",
   "execution_count": 13,
   "id": "3cd591ec-3db7-44fc-adf2-edd902fb88e0",
   "metadata": {
    "executionCancelledAt": null,
    "executionTime": 51,
    "lastExecutedAt": 1746899564130,
    "lastExecutedByKernel": "c35ab1d3-7431-47c2-84d4-cf2f0edc3d27",
    "lastScheduledRunId": null,
    "lastSuccessfullyExecutedCode": "# Estimate effect size for the guardrail metric\neffect_size_guardrail = estimate_effect_size(sessions_x_users, 'time_to_booking')\neffect_size_guardrail = round(effect_size_guardrail, 4)\nprint(f'\\nGuardrail\\np-value: {pval_guardrail} | effect size: {effect_size_guardrail}')",
    "outputsMetadata": {
     "0": {
      "height": 80,
      "type": "stream"
     }
    }
   },
   "outputs": [
    {
     "name": "stdout",
     "output_type": "stream",
     "text": [
      "\n",
      "Guardrail\n",
      "p-value: 0.5365 | effect size: -0.0079\n"
     ]
    }
   ],
   "source": [
    "# Estimate effect size for the guardrail metric\n",
    "effect_size_guardrail = estimate_effect_size(sessions_x_users, 'time_to_booking')\n",
    "effect_size_guardrail = round(effect_size_guardrail, 4)\n",
    "print(f'\\nGuardrail\\np-value: {pval_guardrail} | effect size: {effect_size_guardrail}')"
   ]
  },
  {
   "cell_type": "markdown",
   "id": "66fafb4a-8802-4bff-98c6-69b9d9620eea",
   "metadata": {},
   "source": [
    "## 7. Making decisions"
   ]
  },
  {
   "cell_type": "markdown",
   "id": "2f0999d1-f8fc-4453-a4da-47b2d82c2552",
   "metadata": {},
   "source": [
    "Make the decision to go full on or pull back. The criteria are the following: \n",
    "- Primary metric (`conversion`) effect must be statistically significant and show positive effect (increase).\n",
    "- Guardrail (`time_to_booking`) effect must either be statistically insignificant or show positive effect (decrease)."
   ]
  },
  {
   "cell_type": "code",
   "execution_count": 14,
   "id": "c24cde0c-75ca-45b1-90ac-2bc61a05bf4c",
   "metadata": {
    "executionCancelledAt": null,
    "executionTime": 51,
    "lastExecutedAt": 1746899564181,
    "lastExecutedByKernel": "c35ab1d3-7431-47c2-84d4-cf2f0edc3d27",
    "lastScheduledRunId": null,
    "lastSuccessfullyExecutedCode": "confidence_level = 0.90  # Set the pre-defined confidence level (90%)\nalpha = 1 - confidence_level  # Significance level for hypothesis tests"
   },
   "outputs": [],
   "source": [
    "confidence_level = 0.90  # Set the pre-defined confidence level (90%)\n",
    "alpha = 1 - confidence_level  # Significance level for hypothesis tests"
   ]
  },
  {
   "cell_type": "code",
   "execution_count": 16,
   "id": "4e26d57e",
   "metadata": {},
   "outputs": [],
   "source": [
    "# DECISION\n",
    "# Primary metric must be statistically significant and show positive effect (increase)\n",
    "criteria_full_on_primary = (pval_primary < alpha) & (effect_size_primary > 0)\n",
    "# Guardrail must either be statistically insignificant or whow positive effect (decrease)\n",
    "criteria_full_on_guardrail = (pval_guardrail > alpha) | (effect_size_guardrail <= 0)"
   ]
  },
  {
   "cell_type": "code",
   "execution_count": 18,
   "id": "f5941400",
   "metadata": {},
   "outputs": [
    {
     "name": "stdout",
     "output_type": "stream",
     "text": [
      "\n",
      "The experiment results are significantly positive and the guardrail metric was not harmed, we are going full on!\n"
     ]
    }
   ],
   "source": [
    "# Final launch decision based on both metrics\n",
    "if criteria_full_on_primary and criteria_full_on_guardrail:\n",
    "    decision_full_on = 'Yes'\n",
    "    print('\\nThe experiment results are significantly positive and the guardrail metric was not harmed, we are going full on!')\n",
    "else:\n",
    "    decision_full_on = 'No'\n",
    "    print('\\nThe experiment results are inconclusive or the guardrail metric was harmed, we are pulling back!')"
   ]
  }
 ],
 "metadata": {
  "colab": {
   "name": "Welcome to DataCamp Workspaces.ipynb",
   "provenance": []
  },
  "editor": "DataLab",
  "kernelspec": {
   "display_name": "base",
   "language": "python",
   "name": "python3"
  },
  "language_info": {
   "codemirror_mode": {
    "name": "ipython",
    "version": 3
   },
   "file_extension": ".py",
   "mimetype": "text/x-python",
   "name": "python",
   "nbconvert_exporter": "python",
   "pygments_lexer": "ipython3",
   "version": "3.9.16"
  }
 },
 "nbformat": 4,
 "nbformat_minor": 5
}
