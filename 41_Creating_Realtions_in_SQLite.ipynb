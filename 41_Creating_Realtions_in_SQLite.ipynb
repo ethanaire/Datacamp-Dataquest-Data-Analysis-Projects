{
 "cells": [
  {
   "cell_type": "markdown",
   "metadata": {
    "collapsed": true
   },
   "source": [
    "# Setup"
   ]
  },
  {
   "cell_type": "code",
   "execution_count": 2,
   "metadata": {
    "collapsed": true
   },
   "outputs": [],
   "source": [
    "import sqlite3\n",
    "conn = sqlite3.connect(\"nominations.db\")"
   ]
  },
  {
   "cell_type": "code",
   "execution_count": 3,
   "metadata": {
    "scrolled": true
   },
   "outputs": [
    {
     "name": "stdout",
     "output_type": "stream",
     "text": [
      "(0, 'Year', 'INTEGER', 0, None, 0)\n",
      "(1, 'Category', 'TEXT', 0, None, 0)\n",
      "(2, 'Nominee', 'TEXT', 0, None, 0)\n",
      "(3, 'Won', 'INTEGER', 0, None, 0)\n",
      "(4, 'Movie', 'TEXT', 0, None, 0)\n",
      "(5, 'Character', 'TEXT', 0, None, 0)\n",
      "(2010, 'Actor -- Leading Role', 'Javier Bardem', 0, 'Biutiful', 'Uxbal')\n",
      "(2010, 'Actor -- Leading Role', 'Jeff Bridges', 0, 'True Grit', 'Rooster Cogburn')\n",
      "(2010, 'Actor -- Leading Role', 'Jesse Eisenberg', 0, 'The Social Network', 'Mark Zuckerberg')\n",
      "(2010, 'Actor -- Leading Role', 'Colin Firth', 1, \"The King's Speech\", 'King George VI')\n",
      "(2010, 'Actor -- Leading Role', 'James Franco', 0, '127 Hours', 'Aron Ralston')\n",
      "(2010, 'Actor -- Supporting Role', 'Christian Bale', 1, 'The Fighter', 'Dicky Eklund')\n",
      "(2010, 'Actor -- Supporting Role', 'John Hawkes', 0, \"Winter's Bone\", 'Teardrop')\n",
      "(2010, 'Actor -- Supporting Role', 'Jeremy Renner', 0, 'The Town', 'James Coughlin')\n",
      "(2010, 'Actor -- Supporting Role', 'Mark Ruffalo', 0, 'The Kids Are All Right', 'Paul')\n",
      "(2010, 'Actor -- Supporting Role', 'Geoffrey Rush', 0, \"The King's Speech\", 'Lionel Logue')\n"
     ]
    }
   ],
   "source": [
    "schema = conn.execute(\"pragma table_info(nominations)\").fetchall()\n",
    "first_ten = conn.execute(\"select * from nominations LIMIT 10\")\n",
    "for i in schema:\n",
    "    print(i)\n",
    "for i in first_ten:\n",
    "    print(i)"
   ]
  },
  {
   "cell_type": "markdown",
   "metadata": {},
   "source": [
    "# Creating The Ceremonies Table"
   ]
  },
  {
   "cell_type": "code",
   "execution_count": 5,
   "metadata": {},
   "outputs": [
    {
     "name": "stdout",
     "output_type": "stream",
     "text": [
      "(0, 'id', 'INTEGER', 0, None, 1)\n",
      "(1, 'Year', 'INTEGER', 0, None, 0)\n",
      "(2, 'Host', 'TEXT', 0, None, 0)\n",
      "(1, 2010, 'Steve Martin')\n",
      "(2, 2009, 'Hugh Jackman')\n",
      "(3, 2008, 'Jon Stewart')\n",
      "(4, 2007, 'Ellen DeGeneres')\n",
      "(5, 2006, 'Jon Stewart')\n",
      "(6, 2005, 'Chris Rock')\n",
      "(7, 2004, 'Billy Crystal')\n",
      "(8, 2003, 'Steve Martin')\n",
      "(9, 2002, 'Whoopi Goldberg')\n",
      "(10, 2001, 'Steve Martin')\n",
      "(11, 2000, 'Billy Crystal')\n"
     ]
    }
   ],
   "source": [
    "create_query = \"CREATE TABLE ceremonies(id INTEGER, Year INTEGER, Host TEXT, PRIMARY KEY(id));\"\n",
    "conn.execute(create_query)\n",
    "\n",
    "years_hosts = [(2010, \"Steve Martin\"),\n",
    "               (2009, \"Hugh Jackman\"),\n",
    "               (2008, \"Jon Stewart\"),\n",
    "               (2007, \"Ellen DeGeneres\"),\n",
    "               (2006, \"Jon Stewart\"),\n",
    "               (2005, \"Chris Rock\"),\n",
    "               (2004, \"Billy Crystal\"),\n",
    "               (2003, \"Steve Martin\"),\n",
    "               (2002, \"Whoopi Goldberg\"),\n",
    "               (2001, \"Steve Martin\"),\n",
    "               (2000, \"Billy Crystal\"),\n",
    "            ]\n",
    "insert_query = \"INSERT INTO ceremonies (Year, Host) VALUES (?,?)\"\n",
    "conn.executemany(insert_query,years_hosts)\n",
    "\n",
    "schema = conn.execute(\"pragma table_info(ceremonies);\").fetchall()\n",
    "first_ten = conn.execute(\"select * from ceremonies;\")\n",
    "for i in schema:\n",
    "    print(i)\n",
    "for i in first_ten:\n",
    "    print(i)"
   ]
  },
  {
   "cell_type": "markdown",
   "metadata": {},
   "source": [
    "# Foreign Key Constraits"
   ]
  },
  {
   "cell_type": "code",
   "execution_count": 6,
   "metadata": {},
   "outputs": [
    {
     "data": {
      "text/plain": [
       "<sqlite3.Cursor at 0x18090a30c00>"
      ]
     },
     "execution_count": 6,
     "metadata": {},
     "output_type": "execute_result"
    }
   ],
   "source": [
    "conn.execute(\"PRAGMA foreign_keys = ON\")"
   ]
  },
  {
   "cell_type": "markdown",
   "metadata": {},
   "source": [
    "# Setting Up One-To-Many"
   ]
  },
  {
   "cell_type": "code",
   "execution_count": 7,
   "metadata": {
    "scrolled": true
   },
   "outputs": [
    {
     "name": "stdout",
     "output_type": "stream",
     "text": [
      "(1, 'Actor -- Leading Role', 'Javier Bardem', 'Biutiful', 'Uxbal', 0, 1)\n",
      "(2, 'Actor -- Leading Role', 'Jeff Bridges', 'True Grit', 'Rooster Cogburn', 0, 1)\n",
      "(3, 'Actor -- Leading Role', 'Jesse Eisenberg', 'The Social Network', 'Mark Zuckerberg', 0, 1)\n",
      "(4, 'Actor -- Leading Role', 'Colin Firth', \"The King's Speech\", 'King George VI', 1, 1)\n",
      "(5, 'Actor -- Leading Role', 'James Franco', '127 Hours', 'Aron Ralston', 0, 1)\n"
     ]
    }
   ],
   "source": [
    "create_nominations_two = \"CREATE TABLE nominations_two(id INTEGER PRIMARY KEY, category TEXT, nominee TEXT, movie TEXT, character TEXT, won INTEGER, ceremony_id INTEGER, FOREIGN KEY(ceremony_id) REFERENCES ceremonies(id));\"\n",
    "conn.execute(create_nominations_two)\n",
    "\n",
    "joined_nominations = conn.execute(\"SELECT ceremonies.id as ceremony_id, nominations.category as category, nominations.nominee as nominee, nominations.movie as movie, nominations.character as character, nominations.won as won FROM nominations INNER JOIN ceremonies ON nominations.year == ceremonies.year;\").fetchall()\n",
    "insert_nominations_two = \"INSERT INTO nominations_two (ceremony_id,category,nominee,movie,character,won) VALUES (?,?,?,?,?,?);\"\n",
    "conn.executemany(insert_nominations_two,joined_nominations)\n",
    "\n",
    "for i in conn.execute(\"SELECT * FROM nominations_two LIMIT 5;\").fetchall():\n",
    "    print(i)"
   ]
  },
  {
   "cell_type": "markdown",
   "metadata": {},
   "source": [
    "# Delete and Rename"
   ]
  },
  {
   "cell_type": "code",
   "execution_count": 8,
   "metadata": {},
   "outputs": [
    {
     "data": {
      "text/plain": [
       "<sqlite3.Cursor at 0x18090a30ab0>"
      ]
     },
     "execution_count": 8,
     "metadata": {},
     "output_type": "execute_result"
    }
   ],
   "source": [
    "conn.execute(\"DROP TABLE nominations;\")\n",
    "conn.execute(\"ALTER TABLE nominations_two RENAME TO nominations\")"
   ]
  },
  {
   "cell_type": "markdown",
   "metadata": {},
   "source": [
    "# Creating a Join Table"
   ]
  },
  {
   "cell_type": "code",
   "execution_count": 16,
   "metadata": {},
   "outputs": [
    {
     "data": {
      "text/plain": [
       "<sqlite3.Cursor at 0x18090a30ea0>"
      ]
     },
     "execution_count": 16,
     "metadata": {},
     "output_type": "execute_result"
    }
   ],
   "source": [
    "conn.execute(\"CREATE TABLE movies(id INTEGER PRIMARY KEY, movie TEXT)\")\n",
    "conn.execute(\"CREATE TABLE actors(id INTEGER PRIMARY KEY, actor TEXT)\")\n",
    "conn.execute(\"CREATE TABLE movies_actors(id INTEGER PRIMARY KEY, movie_id INTEGER, actor_id INTEGER, FOREIGN KEY(movie_id) REFERENCES movies(id), FOREIGN KEY(actor_id) REFERENCES actors(id))\")"
   ]
  },
  {
   "cell_type": "markdown",
   "metadata": {},
   "source": [
    "# Exploration\n",
    "\n",
    "##### What other datasets can we add to the database?\n",
    "\n",
    "A table for characters would not be helpful since they are fairly unique to each nomination. If we were working with the larger set of nominations (more than just actors), we would add in more tables to represent the Additional Info for these categories.\n",
    "\n",
    "##### Based on what you know, brainstorm how you would populate the join table and the linked tables using data from nominations.\n",
    "\n",
    "First we would query nominations to pull out all distint movies and actors and assign these to their respective tables. Then we would write a query that joins nominations to both movies and actors to get the movie_id and actor_id information into a list of tuples to be inserted into the join table as we did in the project."
   ]
  },
  {
   "cell_type": "code",
   "execution_count": 17,
   "metadata": {},
   "outputs": [
    {
     "name": "stdout",
     "output_type": "stream",
     "text": [
      "[(1, 'Biutiful'), (2, 'True Grit'), (3, 'The Social Network'), (4, \"The King's Speech\"), (5, '127 Hours')]\n",
      "[(1, 'Javier Bardem'), (2, 'Jeff Bridges'), (3, 'Jesse Eisenberg'), (4, 'Colin Firth'), (5, 'James Franco')]\n"
     ]
    }
   ],
   "source": [
    "insert_movies = \"INSERT INTO movies (movie) SELECT DISTINCT movie FROM nominations;\"\n",
    "insert_actors = \"INSERT INTO actors (actor) SELECT DISTINCT nominee FROM nominations;\"\n",
    "conn.execute(insert_movies)\n",
    "conn.execute(insert_actors)\n",
    "\n",
    "print(conn.execute(\"SELECT * FROM movies LIMIT 5;\").fetchall())\n",
    "print(conn.execute(\"SELECT * FROM actors LIMIT 5;\").fetchall())"
   ]
  },
  {
   "cell_type": "code",
   "execution_count": 19,
   "metadata": {},
   "outputs": [
    {
     "name": "stdout",
     "output_type": "stream",
     "text": [
      "[(1, 1, 1), (2, 2, 2), (3, 3, 3), (4, 4, 4), (5, 5, 5)]\n",
      "[(1, 1, 1, 1, 'Biutiful', 1, 'Javier Bardem'), (2, 2, 2, 2, 'True Grit', 2, 'Jeff Bridges'), (3, 3, 3, 3, 'The Social Network', 3, 'Jesse Eisenberg'), (4, 4, 4, 4, \"The King's Speech\", 4, 'Colin Firth'), (5, 5, 5, 5, '127 Hours', 5, 'James Franco'), (6, 6, 6, 6, 'The Fighter', 6, 'Christian Bale'), (7, 7, 7, 7, \"Winter's Bone\", 7, 'John Hawkes'), (8, 8, 8, 8, 'The Town', 8, 'Jeremy Renner'), (9, 9, 9, 9, 'The Kids Are All Right', 9, 'Mark Ruffalo'), (10, 4, 10, 4, \"The King's Speech\", 10, 'Geoffrey Rush'), (11, 9, 11, 9, 'The Kids Are All Right', 11, 'Annette Bening'), (12, 10, 12, 10, 'Rabbit Hole', 12, 'Nicole Kidman'), (13, 7, 13, 7, \"Winter's Bone\", 13, 'Jennifer Lawrence'), (14, 11, 14, 11, 'Black Swan', 14, 'Natalie Portman'), (15, 12, 15, 12, 'Blue Valentine', 15, 'Michelle Williams'), (16, 6, 16, 6, 'The Fighter', 16, 'Amy Adams'), (17, 4, 17, 4, \"The King's Speech\", 17, 'Helena Bonham Carter'), (18, 6, 18, 6, 'The Fighter', 18, 'Melissa Leo'), (19, 2, 19, 2, 'True Grit', 19, 'Hailee Steinfeld'), (20, 13, 20, 13, 'Animal Kingdom', 20, 'Jacki Weaver')]\n"
     ]
    }
   ],
   "source": [
    "join_query = \"SELECT movies.id as movie_id, actors.id as actor_id FROM nominations INNER JOIN movies ON nominations.movie == movies.movie INNER JOIN actors ON  nominations.nominee == actors.actor;\"\n",
    "join_info = conn.execute(join_query).fetchall()\n",
    "insert_joins = \"INSERT INTO movies_actors (movie_id,actor_id) VALUES (?,?)\"\n",
    "conn.executemany(insert_joins,join_info)\n",
    "print(conn.execute(\"select * from movies_actors limit 5;\").fetchall())\n",
    "print(conn.execute(\"select * from movies_actors INNER JOIN movies on movies_actors.movie_id == movies.id INNER JOIN actors on movies_actors.actor_id == actors.id LIMIT 20;\").fetchall())"
   ]
  }
 ],
 "metadata": {
  "kernelspec": {
   "display_name": "Python 3",
   "language": "python",
   "name": "python3"
  },
  "language_info": {
   "codemirror_mode": {
    "name": "ipython",
    "version": 3
   },
   "file_extension": ".py",
   "mimetype": "text/x-python",
   "name": "python",
   "nbconvert_exporter": "python",
   "pygments_lexer": "ipython3",
   "version": "3.6.1"
  }
 },
 "nbformat": 4,
 "nbformat_minor": 1
}
